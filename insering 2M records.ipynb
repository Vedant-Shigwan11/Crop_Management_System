{
 "cells": [
  {
   "cell_type": "code",
   "execution_count": 1,
   "metadata": {},
   "outputs": [
    {
     "name": "stdout",
     "output_type": "stream",
     "text": [
      "Requirement already satisfied: mysql-connector-python in c:\\users\\anushka gunjal\\anaconda3\\lib\\site-packages (9.2.0)\n",
      "Note: you may need to restart the kernel to use updated packages.\n",
      "Requirement already satisfied: faker in c:\\users\\anushka gunjal\\anaconda3\\lib\\site-packages (36.1.1)\n",
      "Requirement already satisfied: tzdata in c:\\users\\anushka gunjal\\anaconda3\\lib\\site-packages (from faker) (2023.3)\n",
      "Note: you may need to restart the kernel to use updated packages.\n"
     ]
    }
   ],
   "source": [
    "%pip install mysql-connector-python\n",
    "%pip install faker\n",
    "\n",
    "import mysql.connector\n",
    "import random\n",
    "from faker import Faker\n",
    "from datetime import datetime ,timedelta"
   ]
  },
  {
   "cell_type": "code",
   "execution_count": 2,
   "metadata": {},
   "outputs": [],
   "source": [
    "# Initialize Faker for generating random data\n",
    "fake = Faker()\n",
    "\n",
    "#creating mysql connection\n",
    "DB_CONFIG= {\n",
    "    'host':'localhost',     #host name\n",
    "    'user':'root',          #username\n",
    "    'password':'Welcome@2020',  #password\n",
    "    'database':'crop_management'   #database name\n",
    "}\n",
    "\n",
    "#connecting to mysql\n",
    "conn=mysql.connector.connect(**DB_CONFIG)\n",
    "cursor=conn.cursor()\n"
   ]
  },
  {
   "cell_type": "code",
   "execution_count": 3,
   "metadata": {},
   "outputs": [],
   "source": [
    "#Create Crop Table if not exixts\n",
    "cursor.execute(\"\"\"\n",
    "    CREATE TABLE IF NOT EXISTS crops (\n",
    "    id INT AUTO_INCREMENT PRIMARY KEY,\n",
    "    crop_name VARCHAR(255) NOT NULL,\n",
    "    planting_date DATE,\n",
    "    harvest_date DATE,\n",
    "    growth_stage VARCHAR(255),\n",
    "    pest_control_measures TEXT,\n",
    "    yield_prediction INT\n",
    ")\n",
    "\"\"\")\n",
    "conn.commit()"
   ]
  },
  {
   "cell_type": "code",
   "execution_count": 4,
   "metadata": {},
   "outputs": [],
   "source": [
    "# List of sample crop names\n",
    "crop_names = [\"Wheat\", \"Rice\", \"Corn\", \"Soybean\", \"Barley\", \"Sugarcane\", \"Cotton\", \"Potato\", \"Tomato\", \"Lettuce\"]\n",
    "\n",
    "# List of possible growth stages\n",
    "growth_stages = [\"Seedling\", \"Vegetative\", \"Flowering\", \"Fruiting\", \"Maturity\"]\n",
    "\n",
    "# List of sample pest control measures\n",
    "pest_control_measures_list = [\n",
    "    \"Use of organic pesticides\",\n",
    "    \"Crop rotation\",\n",
    "    \"Neem oil application\",\n",
    "    \"Biological pest control\",\n",
    "    \"Chemical pesticides\",\n",
    "    \"Regular field monitoring\",\n",
    "]\n",
    "\n",
    "# Function to generate random data for crops\n",
    "def generate_data():\n",
    "    crop_name = random.choice(crop_names)\n",
    "    planting_date = fake.date_between(start_date=\"-2y\", end_date=\"today\")  # Planting in last 2 years\n",
    "    harvest_date = planting_date + timedelta(days=random.randint(60, 180))  # Harvest after 2-6 months\n",
    "    growth_stage = random.choice(growth_stages)\n",
    "    pest_control = random.choice(pest_control_measures_list)\n",
    "    yield_prediction = random.randint(500, 5000)  # Yield in kg\n",
    "    \n",
    "    return (crop_name, planting_date, harvest_date, growth_stage, pest_control, yield_prediction)\n",
    "    # Batch insert records in chunks\n",
    "batch_size = 100000  # Insert 10,000 at a time for efficiency\n",
    "total_records = 20000000"
   ]
  },
  {
   "cell_type": "code",
   "execution_count": null,
   "metadata": {},
   "outputs": [
    {
     "name": "stdout",
     "output_type": "stream",
     "text": [
      "100000 records inserted...\n",
      "200000 records inserted...\n",
      "300000 records inserted...\n",
      "400000 records inserted...\n",
      "500000 records inserted...\n",
      "600000 records inserted...\n",
      "700000 records inserted...\n",
      "800000 records inserted...\n",
      "900000 records inserted...\n",
      "1000000 records inserted...\n",
      "1100000 records inserted...\n",
      "1200000 records inserted...\n",
      "1300000 records inserted...\n",
      "1400000 records inserted...\n",
      "1500000 records inserted...\n",
      "1600000 records inserted...\n",
      "1700000 records inserted...\n",
      "1800000 records inserted...\n",
      "1900000 records inserted...\n",
      "2000000 records inserted...\n"
     ]
    }
   ],
   "source": [
    "# Re-establish the MySQL connection\n",
    "conn = mysql.connector.connect(**DB_CONFIG)\n",
    "cursor = conn.cursor()\n",
    "\n",
    "for i in range(0, total_records, batch_size):\n",
    "    data_batch = [generate_data() for _ in range(batch_size)]\n",
    "    \n",
    "    # Execute batch insert\n",
    "    cursor.executemany(\"\"\"\n",
    "        INSERT INTO crops (crop_name, planting_date, harvest_date, growth_stage, pest_control_measures, yield_prediction)\n",
    "        VALUES (%s, %s, %s, %s, %s, %s)\n",
    "    \"\"\", data_batch)\n",
    "    conn.commit()\n",
    "    \n",
    "    print(f\"{i + batch_size} records inserted...\")\n",
    "\n",
    "print(\"✅ Data insertion completed successfully!\")\n",
    "\n",
    "# Close the database connection\n",
    "cursor.close()\n",
    "conn.close()"
   ]
  },
  {
   "cell_type": "code",
   "execution_count": null,
   "metadata": {},
   "outputs": [
    {
     "name": "stderr",
     "output_type": "stream",
     "text": [
      "C:\\Users\\Anushka Gunjal\\AppData\\Local\\Temp\\ipykernel_20348\\2842257181.py:11: UserWarning: pandas only supports SQLAlchemy connectable (engine/connection) or database string URI or sqlite3 DBAPI2 connection. Other DBAPI2 objects are not tested. Please consider using SQLAlchemy.\n",
      "  df = pd.read_sql(query, conn)\n"
     ]
    }
   ],
   "source": [
    "import pandas as pd\n",
    "\n",
    "# Re-establish the MySQL connection\n",
    "conn = mysql.connector.connect(**DB_CONFIG)\n",
    "cursor = conn.cursor()\n",
    "\n",
    "# Define your SQL query\n",
    "query = \"SELECT * FROM crops\"\n",
    "\n",
    "# Use pandas to read the SQL query result into a DataFrame\n",
    "df = pd.read_sql(query, conn)\n",
    "\n",
    "# Export the DataFrame to a CSV file\n",
    "df.to_csv(\"output2.csv\", index=False)\n",
    "\n",
    "# Close the database connection\n",
    "cursor.close()\n",
    "conn.close()"
   ]
  }
 ],
 "metadata": {
  "kernelspec": {
   "display_name": "Python 3 (ipykernel)",
   "language": "python",
   "name": "python3"
  },
  "language_info": {
   "codemirror_mode": {
    "name": "ipython",
    "version": 3
   },
   "file_extension": ".py",
   "mimetype": "text/x-python",
   "name": "python",
   "nbconvert_exporter": "python",
   "pygments_lexer": "ipython3",
   "version": "3.13.2"
  }
 },
 "nbformat": 4,
 "nbformat_minor": 4
}
